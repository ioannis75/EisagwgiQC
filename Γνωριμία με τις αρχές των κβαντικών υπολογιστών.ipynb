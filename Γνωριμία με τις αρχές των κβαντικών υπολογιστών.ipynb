{
 "cells": [
  {
   "cell_type": "markdown",
   "metadata": {
    "slideshow": {
     "slide_type": "slide"
    }
   },
   "source": [
    "\n",
    "<table width=\"100%\"><tr><td style=\"color:#bbbbbb;background-color:#ffffff;font-size:11px;font-style:italic;text-align:right;\"><a href=\"http://semfe.ntua.gr/el/department-of-physics\" target=\"_blank\" align=\"left\"><img src=\"logosemfe.png\"  align=\"left\"></a></td><td style=\"color:#bbbbbb;background-color:#ffffff;font-size:11px;font-style:italic;text-align:right;\"><a href=\"https://discord.gg/VVjunJxW\" target=\"_blank\" align=\"left\"><img src=\"qgreece.jpg\"  align=\"left\"></a></td></tr><tr><td style=\"color:#bbbbbb;background-color:#ffffff;font-size:11px;font-style:italic;text-align:right;\">Αυτό το κελί περιλαμβάνει κάποιες μακροεντολές. Εάν υπάρχει πρόβλημα παρουσίασης μαθηματικών τύπων, εκτελέστε αυτό το κελί!  </td><td>Εγγραφείτε στον discord server μας όχι μόνο για να ενημερώνεστε για τις κβαντικές τεχνολογίες και τους κβαντικούς υπολογιστές αλλά και για να συνεισφέρετε στην ανάπτυξή τους. https://discord.gg/VVjunJxW</td></tr></table>\n",
    "$ \\newcommand{\\bra}[1]{\\langle #1|} $\n",
    "$ \\newcommand{\\ket}[1]{|#1\\rangle} $\n",
    "$ \\newcommand{\\braket}[2]{\\langle #1|#2\\rangle} $\n",
    "$ \\newcommand{\\dot}[2]{ #1 \\cdot #2} $\n",
    "$ \\newcommand{\\biginner}[2]{\\left\\langle #1,#2\\right\\rangle} $\n",
    "$ \\newcommand{\\mymatrix}[2]{\\left( \\begin{array}{#1} #2\\end{array} \\right)} $\n",
    "$ \\newcommand{\\myvector}[1]{\\mymatrix{c}{#1}} $\n",
    "$ \\newcommand{\\myrvector}[1]{\\mymatrix{r}{#1}} $\n",
    "$ \\newcommand{\\mypar}[1]{\\left( #1 \\right)} $\n",
    "$ \\newcommand{\\mybigpar}[1]{ \\Big( #1 \\Big)} $\n",
    "$ \\newcommand{\\sqrttwo}{\\frac{1}{\\sqrt{2}}} $\n",
    "$ \\newcommand{\\dsqrttwo}{\\dfrac{1}{\\sqrt{2}}} $\n",
    "$ \\newcommand{\\onehalf}{\\frac{1}{2}} $\n",
    "$ \\newcommand{\\donehalf}{\\dfrac{1}{2}} $\n",
    "$ \\newcommand{\\hadamard}{ \\mymatrix{rr}{ \\sqrttwo & \\sqrttwo \\\\ \\sqrttwo & -\\sqrttwo }} $\n",
    "$ \\newcommand{\\vzero}{\\myvector{1\\\\0}} $\n",
    "$ \\newcommand{\\vone}{\\myvector{0\\\\1}} $\n",
    "$ \\newcommand{\\stateplus}{\\myvector{ \\sqrttwo \\\\  \\sqrttwo } } $\n",
    "$ \\newcommand{\\stateminus}{ \\myrvector{ \\sqrttwo \\\\ -\\sqrttwo } } $\n",
    "$ \\newcommand{\\myarray}[2]{ \\begin{array}{#1}#2\\end{array}} $\n",
    "$ \\newcommand{\\X}{ \\mymatrix{cc}{0 & 1 \\\\ 1 & 0}  } $\n",
    "$ \\newcommand{\\Z}{ \\mymatrix{rr}{1 & 0 \\\\ 0 & -1}  } $\n",
    "$ \\newcommand{\\Htwo}{ \\mymatrix{rrrr}{ \\frac{1}{2} & \\frac{1}{2} & \\frac{1}{2} & \\frac{1}{2} \\\\ \\frac{1}{2} & -\\frac{1}{2} & \\frac{1}{2} & -\\frac{1}{2} \\\\ \\frac{1}{2} & \\frac{1}{2} & -\\frac{1}{2} & -\\frac{1}{2} \\\\ \\frac{1}{2} & -\\frac{1}{2} & -\\frac{1}{2} & \\frac{1}{2} } } $\n",
    "$ \\newcommand{\\CNOT}{ \\mymatrix{cccc}{1 & 0 & 0 & 0 \\\\ 0 & 1 & 0 & 0 \\\\ 0 & 0 & 0 & 1 \\\\ 0 & 0 & 1 & 0} } $\n",
    "$ \\newcommand{\\norm}[1]{ \\left\\lVert #1 \\right\\rVert } $\n",
    "$ \\newcommand{\\pstate}[1]{ \\lceil \\mspace{-1mu} #1 \\mspace{-1.5mu} \\rfloor } $"
   ]
  },
  {
   "cell_type": "markdown",
   "metadata": {
    "slideshow": {
     "slide_type": "subslide"
    }
   },
   "source": [
    "<font style=\"font-size:30px;\" align=\"left\"><b> Εργαστήριο γνωριμίας με τις αρχές των κβαντικών υπολογιστών</b></font>\n",
    "<br><br>\n",
    "Σχεδιασμός: Αλέξανδρος Παγώνης, Ιωάννης Θεοδώνης<br>\n",
    "Παρουσίαση: Ιωάννης Θεοδώνης (ytheod@mail.ntua.gr)\n",
    "<br>"
   ]
  },
  {
   "cell_type": "markdown",
   "metadata": {
    "slideshow": {
     "slide_type": "fragment"
    }
   },
   "source": [
    "***\n",
    "**Προεργαστηριακός Έλεγχος συστήματος**\n",
    "\n",
    "Εκτελέσετε το παρακάτω κελί για να ελέγξετε εάν η Qiskit είναι ήδη εγκατεστημένη στο σύστημά σας."
   ]
  },
  {
   "cell_type": "code",
   "execution_count": null,
   "metadata": {
    "slideshow": {
     "slide_type": "fragment"
    }
   },
   "outputs": [],
   "source": [
    "import qiskit\n",
    "versions = qiskit.__qiskit_version__\n",
    "print(\"The version of Qiskit is\",versions['qiskit'])\n",
    "print()\n",
    "print(\"The version of each component:\")\n",
    "for key in versions:\n",
    "    print(key,\"->\",versions[key])"
   ]
  },
  {
   "cell_type": "markdown",
   "metadata": {},
   "source": [
    "*θα πρέπει να μπορείτε να δείτε την τυπωμένη την έκδοση της Qiskit που είναι εγκατεστημένη στο σύστημά σας*"
   ]
  },
  {
   "cell_type": "markdown",
   "metadata": {},
   "source": [
    "**Εγκατάταση Qiskit**\n",
    "\n",
    "Μπορείτε να εγκαταστήσετε την Qiskit εκτελώντας την παρακάτω εντολή."
   ]
  },
  {
   "cell_type": "code",
   "execution_count": null,
   "metadata": {},
   "outputs": [],
   "source": [
    "!pip install \"qiskit[visualization]\" --user"
   ]
  },
  {
   "cell_type": "markdown",
   "metadata": {},
   "source": [
    "Μετά την εγκατάσταση κάντε επανεκίνηση(restart) στου Kernel και δοκιμάστε το παραπάνω τεστ."
   ]
  },
  {
   "cell_type": "markdown",
   "metadata": {},
   "source": [
    "\n",
    "***\n",
    "\n",
    "### Μιγαδικοί αριθμοί\n",
    "\n",
    "Για να λύνονται όλες οι πολυωνυμικές εξισώσεις, κάνουμε μια επέκταση στο σύνολο των πραγματικών αριθμών. Ορίζουμε την φανταστική μονάδα $ i = \\sqrt{-1} $ και ορίζουμε ως Μιγαδικό Αριθμό έναν συνδυασμό πραγματικών και φανταστικών αριθμών, πχ $ z = 3 + 5i$. Από τον ορισμό προκύπτουν οι απλές πράξεις:\n",
    "\n",
    "*Πρόσθεση:* $(a+bi) + (c+di) = (a+c) + (b+d)i$.\n",
    "\n",
    "*Αφαίρεση:* $(a+bi) - (c+di) = (a-c) + (b-d)i$.\n",
    "\n",
    "*Πολλαπλασιασμός:* $(a+bi) \\cdot (c+di) = ac + adi + bci + bdi^2 = ac + adi + bci - bd = (ac-bd)+(ad+bc)i$.\n",
    "\n",
    "*Απόλυτη τιμή:* $\\mathopen|a+bi\\mathclose| = \\sqrt{a^2+b^2}$. Προσοχή! Η απόλυτη τιμή ενός μιγαδικού αριθμού είναι πραγματικός αριθμός.\n",
    "\n",
    "*Συζυγής Μιγαδικός:* Για κάθε μιγαδικό αριθμό $z = a+bi$, ορίζεται ο συζυγής του μιγαδικός αριθμός $ z^* = (a+bi)^* = a-bi$.\n",
    "\n",
    "Ισχύει, επίσης, $ |z|^2 = z^*z $"
   ]
  },
  {
   "cell_type": "code",
   "execution_count": null,
   "metadata": {},
   "outputs": [],
   "source": [
    "# PARADEIGMA.\n",
    "\n",
    "z =  6 + 8j\n",
    "w = -2 + 1j\n",
    "\n",
    "add = z+w\n",
    "mul = z*w\n",
    "# apoluth timh me duo tropous\n",
    "abs_z1 = abs(z)\n",
    "abs_z2 = (z * z.conjugate())**0.5\n",
    "\n",
    "print(\"z+w=\", add, \"\\nz*w=\", mul, \"\\n|z|1=\", abs_z1, \"\\n|z|2=\", abs_z2)"
   ]
  },
  {
   "cell_type": "markdown",
   "metadata": {},
   "source": [
    "<hr>\n",
    "\n",
    "### Συμβολισμός Dirac\n",
    "\n",
    "Oι κβαντικές καταστάσεις μπορούν να αναπαρασταθούν από πίνακες στήλες (διανύσματα στο χώρο των πινάκων) με στοιχεία πίνακα μιγαδικούς αριθμούς. \n",
    "\n",
    "$ \\ket{\\psi} = \\begin{pmatrix} c_1 \\\\ c_2 \\\\ \\vdots \\\\ c_n \\end{pmatrix} $ \n",
    "\n",
    "Ορίζεται το βοηθητικό διάνυσμα $\\bra{\\psi}=\\ket{\\psi}^\\dagger$ (το σύμβολο $^\\dagger$ προφέρεται dagger και ουσιαστικά είναι ο ανάστροφος πίνακας όπου έχουμε αντικαταστήσει τα στοιχεία με τις συζυγές τιμές τους):\n",
    "\n",
    "$ \\bra{\\psi} = \\begin{pmatrix} c_1^* & c_2^* & \\cdots & c_n^* \\end{pmatrix} = \\ket{\\psi}^\\dagger $ \n",
    "\n",
    "Το εσωτερικό γινόμενο ανάμεσα σε δύο τέτοια διανύσματα είναι ο συνήθης πολλαπλασιασμός πινάκων: \n",
    "\n",
    "$ \\braket{\\psi}{\\phi} = \\bra{\\psi} * \\ket{\\phi}= \\begin{pmatrix} c_1^* & c_2^* & \\cdots & c_n^* \\end{pmatrix}\\begin{pmatrix} c_1' \\\\ c_2' \\\\ \\vdots \\\\ c_n' \\end{pmatrix}= c_1^*c_1' + c_2^*c_2' + \\cdots + c_n^*c_n' $\n",
    "\n",
    "και ισχύει ότι \n",
    "\n",
    "$\\braket{\\psi}{\\psi}= \\begin{pmatrix} c_1^* & c_2^* & \\cdots & c_n^* \\end{pmatrix}\\begin{pmatrix} c_1 \\\\ c_2 \\\\ \\vdots \\\\ c_n \\end{pmatrix}= c_1^*c_1 + c_2^*c_2 + \\cdots + c_n^*c_n' =|c_1|^2+|c_2|^2+\\cdots+|c_n|^2$\n",
    "\n",
    "Δύο διανύσματα ονομάζονται <strong>ορθοκανονικά</strong>, και λέμε ότι αποτελούν βάση, εάν ισχύει ότι \n",
    "\n",
    "$ \\braket{\\psi}{\\phi}=\\delta_{\\psi,\\phi}$ \n",
    "\n",
    "όπου $\\delta_{\\psi,\\phi}$ το είναι το σύμβολο δ του Kronecker, το οποίο μηδενίζεται αν $\\psi\\neq\\phi$ (είναι δηλαδή ορθογώνια μεταξύ τους) ενώ ισούται με μονάδα αν $\\psi=\\phi$ (έχουν μήκος ένα). \n",
    "\n",
    "Το σύμβολο $ \\ket{\\phi}$ ονομάζεται <strong>ket</strong> ενώ το $ \\bra{\\psi}$ ονομάζεται <strong>bra</strong>, ο συνδιασμός τους $\\braket{\\psi}{\\phi}$ αποτελεί ένα bra-ket (braket). Ο συμβολισμός αυτό εισήχθει από τον άγγλο καθηγητή P.A.M. (Paul Adrien Maurice) Dirac (1902-1984), ο οποίος τιμήθηκε με βραβείο Nobel, όταν ήταν 31 ετών (το 1933).\n",
    "\n"
   ]
  },
  {
   "cell_type": "markdown",
   "metadata": {},
   "source": [
    "### Κβαντικό μπιτ ή qubit. Το πιο απλό κβαντικό σύστημα.\n",
    "\n",
    "Για να μεταφέρουμε ένα bit b∈{0,1} στον κβαντικό κόσμο συσχετίζουμε τα 0 και 1 με τα ορθοκανονικά διανύσματα \n",
    "\n",
    "$ \\ket{0} = \\begin{pmatrix} 1 \\\\ 0 \\end{pmatrix} \\qquad $ <br>και<br>\n",
    "$ \\ket{1} = \\begin{pmatrix} 0 \\\\ 1 \\end{pmatrix} $\n",
    "\n",
    "τα οποία αποκαλούνται και διανύσματα τυπικής βάσης. \n",
    "***\n",
    "*Άσκηση*: Να δείξετε στο χαρτί ότι τα $\\ket{0}$ και $\\ket{1}$ είναι ορθοκανονικά μεταξύ τους. \n",
    "<br>Υπόδειξη: Θα πρέπει $\\braket{0}{0}=\\braket{1}{1}=1$ και $\\braket{0}{1}=\\braket{1}{0}=0$.\n",
    "\n",
    "*** \n",
    "\n",
    "Ως **κβαντικό bit (qubit)** ορίζουμε ένα γραμμικό συνδυασμό αυτών των διανυσμάτων βάσης:\n",
    "    \n",
    "$ \\ket{\\psi} = \\begin{pmatrix} z_1 \\\\ z_2 \\end{pmatrix} = z_1 \\begin{pmatrix} 1 \\\\ 0 \\end{pmatrix} + z_2 \\begin{pmatrix} 0 \\\\ 1 \\end{pmatrix}=z_1\\ket{0}+z_2\\ket{1}$\n",
    "\n",
    "Από τον ορισμό του  $ \\bra{\\psi}$ έχουμε\n",
    "\n",
    "$ \\bra{\\psi} = \\begin{pmatrix} z_1^* & z_2^* \\end{pmatrix} = z_1^* \\begin{pmatrix} 1 & 0 \\end{pmatrix} + z_2^* \\begin{pmatrix} 0 & 1 \\end{pmatrix}=z_1^*\\bra{0}+z_2^*\\bra{1}$\n",
    "<br><br>\n",
    "***\n",
    "*Άσκηση*: Είναι τα qubit $\\ket{+}=\\frac{1}{\\sqrt{2}}(\\ket{0}+\\ket{1})$ και $\\ket{-}=\\frac{1}{\\sqrt{2}}(\\ket{0}-\\ket{1})$, ορθοκανονικά μεταξύ τους;\n",
    "<br>(Υπόδειξη: χρησιμοποιείστε το αποτέλεσμα της προηγούμενης άσκησης)\n",
    "<br><br>\n",
    "***\n",
    "**Μέτρηση του qubit**\n",
    "\n",
    "Είδαμε ότι ένα Qubit, $\\ket{\\psi} = z_1\\ket{0}+z_2\\ket{1}$ γράφεται ως γραμμικός συνδυασμός των δύο καταστασεων, $\\ket{0}$ που αντιστοιχεί στην τιμή 0, και $\\ket{1}$ που αντιστοιχεί στην τιμή 1. \n",
    "\n",
    "Για να εξάγουμε πληροφορία όμως από ένα Qubit θα πρέπει να το μετρήσουμε. Αν μετρήσουμε όμως ένα qubit θα πάρουμε ως αποτέλεσμα μόνο ένα μπιτ πληροφορίας θα πάρουμε δηλαδή <strong>ένα</strong> από τα δύο ενδεχόμενα, είτε 0 είτε 1. \n",
    "\n",
    "Οι μιγαδικοί αριθμοί $ z_1 $ και $ z_2 $ ρυθμίζουν τις πιθανότητες του κάθε ενδεχόμενου. Το τετράγωνο του συντελεστή κάθε ενδεχόμενου ισούται με την πιθανότητα να μετρηθεί αυτό το ενδεχόμενο. Δηλαδή\n",
    "\n",
    "$ Pr(0) = |z_1|^2 \\qquad Pr(1) = |z_2|^2 $\n",
    "\n",
    "Για παράδειγμα, η κατάσταση $ \\ket{x} = \\sqrt{\\frac{3}{10}} \\ket{0} - i\\sqrt{\\frac{7}{10}} \\ket{1} $, έχει κατανομή πιθανοτήτων $Pr(0) = |\\sqrt{\\frac{3}{10}}|^2 = 0,3$ (30%) και $Pr(1) = |- i\\sqrt{\\frac{7}{10}}|^2=0,7$ (70%). Αυτό σημαίνει ότι εάν φτιάξουμε την κατάσταση $ \\ket{x}$ 100 φορές και την μετρήσουμε, τις 30 φορές θα πάρουμε ως αποτέλεσμα το 0 και τις άλλες 70 φορές θα πάρουμε ως αποτέλεσμα το 1.\n",
    "\n",
    "Μετά την μέτρηση, το qubit παραμένει στην κατάσταση στην οποία μετρήθηκε. Εάν το αποτέλεσμα της μέτρησης είναι μηδέν η νέα του κατάσταση είναι η $ \\ket{0}$ ενώ εάν το αποτελέσμα είναι 1 τότε η νέα του κατάσταση είναι η $ \\ket{1}$. \n",
    "<br>Η υπέρθεση <strong>καταστρέφεται</strong> διαπαντός μετά την πρώτη μέτρηση. Σε όσες μετρήσεις και εάν ακολουθήσουν αμέσως μετά την πρώτη μέτρηση, το κβαντικό σύστημα θα μετριέται με πιθανότητα 100% στην κατάσταση στην οποία μετρήθηκε κατά την πρώτη μέτρηση.\n",
    "\n",
    "<strong>Κανονικοποίηση</strong>\n",
    "\n",
    "Εξ ορισμού πρέπει: $ |z_1|^2 + |z_2|^2 = 1 \\implies \\braket{\\psi}{\\psi} = 1 $ \n",
    "\n",
    "αφού κατά την μέτρηση θα πρέπει το άθροισμα των πιθανοτήτων των πιθανών αποτελεσμάτων να μας κάνει μονάδα.\n",
    "<br><strong>Προσοχή!</strong> Μόνο πίνακες-διανύσματα που ικανοποιούν την αρχή της κανονικοποίησης μπορεί να αναπαριστούν κβαντικές καταστάσεις qubit."
   ]
  },
  {
   "cell_type": "markdown",
   "metadata": {},
   "source": [
    "***\n",
    "*Παραδείγματα*\n",
    "<br>Άκυρη κατάσταση qubit: $ \\ket{\\psi} = \\begin{pmatrix} 1 \\\\ 1 \\end{pmatrix} \\implies \\braket{\\psi}{\\psi} = |1|^{2}+|1|^{2}=2 $\n",
    "\n",
    "Έγκυρη κατάσταση qubit: $ \\ket{\\psi} = \\frac{1}{\\sqrt{2}} \\begin{pmatrix} 1 \\\\ -i \\end{pmatrix} \\implies \\braket{\\psi}{\\psi} = |\\frac{1}{\\sqrt{2}}|^2 + |-i\\frac{1}{\\sqrt{2}}|^2 = \\frac{1}{2}+\\frac{1}{2}=1 $\n",
    "\n",
    "***\n",
    "*Ασκήσεις* \n",
    "\n",
    "Είναι η κατάσταση $ \\ket{\\alpha}  = \\begin{pmatrix} 0,3 \\\\ 0,3 \\end{pmatrix} $ έγκυρη;\n",
    "\n",
    "Είναι η κατάσταση $ \\ket{\\beta}  = \\begin{pmatrix} 0 \\\\ 1 \\\\0 \\end{pmatrix} $ έγκυρη;\n",
    "\n",
    "Είναι η κατάσταση $ \\ket{\\gamma} = \\frac{1}{\\sqrt{3}} \\begin{pmatrix} 1 \\\\ -2i \\end{pmatrix} $ έγκυρη;\n",
    "\n",
    "Είναι η κατάσταση $ \\ket{\\delta}  = \\frac{1}{\\sqrt{5}} \\begin{pmatrix} 2i \\\\ -i \\end{pmatrix} $ έγκυρη;\n",
    "***"
   ]
  },
  {
   "cell_type": "markdown",
   "metadata": {},
   "source": [
    "### Κβαντικές πύλες\n",
    "\n",
    "Κβαντική πύλη $U$ ονομάζεται ένας πίνακας 2X2 με μιγαδικά στοιχεία\n",
    "\n",
    "$ U = \\begin{pmatrix} u_{11} & u_{12} \\\\ u_{21} & u_{22} \\end{pmatrix} $\n",
    "\n",
    "που μας δείχνει τον γενικότερο μετασχηματισμό ενός qubit $\\ket{\\psi}$ σε ένα νέο qubit $\\ket{\\phi}$.\n",
    "\n",
    "Άρα αν $\\ket{\\phi}= \\begin{pmatrix} z_1' \\\\ z_2' \\end{pmatrix}$ , $\\ket{\\psi}= \\begin{pmatrix} z_1 \\\\ z_2 \\end{pmatrix}$\n",
    "\n",
    "και δράσουμε το μετασχηματισμό $U$ στο qubit $\\ket{\\psi}$, τότε παίρνουμε το qubit $\\ket{\\phi}$. Δηλαδή ισχύει\n",
    "\n",
    "$\\ket{\\phi}=U \\ket{\\psi} \\rightarrow$\n",
    "\n",
    "$\\begin{pmatrix} z_1' \\\\ z_2' \\end{pmatrix}= \\begin{pmatrix} u_{11} & u_{12} \\\\ u_{21} & u_{22} \\end{pmatrix} \\begin{pmatrix} z_1 \\\\ z_2 \\end{pmatrix} $. Άρα $\\begin{pmatrix} z_1' \\\\ z_2' \\end{pmatrix}= \\begin{pmatrix} u_{11}z_1 +u_{12}z_2 \\\\ u_{21}z_1 +u_{22}z_2 \\end{pmatrix}$\n"
   ]
  },
  {
   "cell_type": "markdown",
   "metadata": {},
   "source": [
    "<strong>Προσοχή!</strong> Μόνος περιορισμός είναι η κανονικοποίηση: $ U \\ket{\\psi} = \\ket{\\phi} \\implies \\braket{\\phi}{\\phi} = 1 $. <br>\n",
    "\n",
    "Οι πίνακες που διατηρούν την κανονικοποίηση ονομάζονται <strong>μοναδιακοί</strong> (Unitary). <br>\n",
    "\n",
    "Για κάθε μοναδιακό πίνακα ισχύει ότι :\n",
    "\n",
    "$ UU^\\dagger = U^\\dagger U = I $. \n",
    "\n",
    "Εδώ πάλι με το σύμβολο $U^\\dagger$ εννοούμε τον ανάστροφο συζυγή πίνακα, δηλαδή\n",
    "\n",
    "$U^\\dagger=\\begin{pmatrix} u_{11}^* & u_{21}^* \\\\ u_{12}^* & u_{22}^* \\end{pmatrix}$\n",
    "\n",
    "Από την σχέση $ UU^\\dagger = U^\\dagger U = I $ βλέπουμε ότι εάν έχουμε εφαρμόσει ένα μετασχηματισμό U σε ένα qubit, τότε μπορούμε να αντιστρέψουμε το μετασχηματισμό και να γυρίσουμε στο αρχικό μας qubit εάν εφαρμόσουμε τον ανάστροφο συζυγή $U^\\dagger$. \n",
    "\n",
    "Οι κβαντικές πύλες είναι πάντα αντιστρέψιμες, κάτι που δεν ισχύει για τις κλασσικές πύλες(βλ. πύλη ADD).\n",
    "\n",
    "\n",
    "***\n",
    "*Άσκηση*: Ελέγξε εάν οι πίνακες\n",
    "\n",
    "$ \\begin{pmatrix} 0 & -i \\\\ i & 0 \\end{pmatrix} $ , $ \\begin{pmatrix} 1 & 1 \\\\ 1 & 1 \\end{pmatrix} $, $ \\begin{pmatrix} 1 & 1 \\\\ 1 & 0 \\end{pmatrix}, \\begin{pmatrix} \\frac{1}{\\sqrt{2}} & \\frac{1}{\\sqrt{2}} \\\\ \\frac{1}{\\sqrt{2}} & -\\frac{1}{\\sqrt{2}} \\end{pmatrix}$ είναι μοναδιακοί.\n"
   ]
  },
  {
   "cell_type": "markdown",
   "metadata": {},
   "source": [
    "***\n",
    "**Πύλη Hadamard**\n",
    "Η πιο σημαντική κβαντική πύλη ενός qubit είναι η πύλη Hadamard $H$\n",
    "\n",
    "$ H = \\frac{1}{\\sqrt{2}} \\begin{pmatrix} 1 & 1 \\\\ 1 & -1 \\end{pmatrix} $\n",
    "\n",
    "Όταν η Hadamard δρα πάνω στα διανύσματα βάσης ουσιαστικά τα θέτει σε ισοβαρή(ισοπίθανη) υπέρθεση (superposition).\n",
    "\n",
    "$H \\ket{0}=\\frac{1}{\\sqrt{2}} \\begin{pmatrix} 1 & 1 \\\\ 1 & -1 \\end{pmatrix}\\begin{pmatrix} 1 \\\\ 0 \\end{pmatrix}=\\frac{1}{\\sqrt{2}} \\begin{pmatrix} 1 \\\\ 1 \\end{pmatrix}=\\frac{1}{\\sqrt{2}}( \\begin{pmatrix} 1 \\\\ 0 \\end{pmatrix}+\\begin{pmatrix} 0 \\\\ 1 \\end{pmatrix})=\\frac{1}{\\sqrt{2}} (\\ket{0} + \\ket{1})=\\ket{+}$\n",
    "\n",
    "Παρατηρήστε ότι έαν κάνουμε μία μέτρηση στο qubit $\\ket{+}$ έχουμε θεωρητικά 50% πιθανότητα να λάβουμε 0 και 50%  πιθανότητα να λάβουμε 1. Για το λόγο αυτό λέμε ότι εφαρμόζοντας την πύλη $H$ στο $\\ket{0}$ μεταβαίνουμε σε μία ισοβαρή υπέρθεση των καταστάσεων $\\ket{0}$ και $\\ket{1}$. \n",
    "\n",
    "Ομοίως εφαρμόζοντας την Hadamard στο qubit $\\ket{1}$ έχουμε\n",
    "\n",
    "$ H \\ket{1}=\\frac{1}{\\sqrt{2}} \\begin{pmatrix} 1 & 1 \\\\ 1 & -1 \\end{pmatrix}\\begin{pmatrix} 0 \\\\ 1 \\end{pmatrix}=\\frac{1}{\\sqrt{2}} \\begin{pmatrix} 1 \\\\ -1 \\end{pmatrix}=\\frac{1}{\\sqrt{2}}( \\begin{pmatrix} 1 \\\\ 0 \\end{pmatrix}-\\begin{pmatrix} 0 \\\\ 1 \\end{pmatrix})=\\frac{1}{\\sqrt{2}} (\\ket{0} - \\ket{1})=\\ket{-}$\n",
    "\n",
    "Επίσης, λόγω του ότι ο μετασχηματισμός $H$ είναι μοναδιακός, ισχύει ότι\n",
    "\n",
    "$ H \\ket{+} = \\ket{0} $\n",
    "\n",
    "$ H \\ket{-} = \\ket{1} $\n",
    "\n",
    "***\n",
    "*Άσκηση* Δείξτε ότι οι παραπάνω σχέσεις αληθέυουν"
   ]
  },
  {
   "cell_type": "markdown",
   "metadata": {},
   "source": [
    "**Πύλη X (ΝΟΤ)**\n",
    "<br>Εξίσου σημαντική πύλη ενός Qubit είναι η πύλη ΝΟΤ ή αλλιώς πύλη X, η οποία δίνεται από τον μοναδιακό πίνακα:\n",
    "    \n",
    "$ X = \\begin{pmatrix} 0 & 1 \\\\ 1 & 0 \\end{pmatrix} $\n",
    "\n",
    "H $Χ$ όταν δρα πάνω στα $\\ket{0}$ και $\\ket{1}$ τα αντιστρέφει, έχουμε δηλαδή \n",
    "\n",
    "$X\\ket{0}=\\ket{1}$  και $X\\ket{1}=\\ket{0}$\n",
    "\n",
    "\n",
    "**Πύλη Ζ**\n",
    "<br>Μία ακόμα πύλη που θα χρησιμοποιήσουμε στο παρόν εργαστήριο είναι η πύλη Z, η οποία δίνεται από τον μοναδιακό πίνακα:\n",
    "    \n",
    "\n",
    "$ Z = \\begin{pmatrix} 1 & 0 \\\\ 0 & -1 \\end{pmatrix} $\n",
    "\n",
    "Παρατηρήστε ότι η $Z$ μπορεί να γραφτεί και ως $\\ket{0}\\bra{0}-\\ket{1}\\bra{1}$ οπότε μπορούμε έτσι εύκολα να δούμε την δράση της πάνω στα $\\ket{0}$ και $\\ket{1}$.  \n",
    "\n",
    "$Ζ\\ket{0}=(\\ket{0}\\bra{0}-\\ket{1}\\bra{1})\\ket{0}=\\ket{0}$ \n",
    "\n",
    "και \n",
    "\n",
    "$Z\\ket{1}=(\\ket{0}\\bra{0}-\\ket{1}\\bra{1})\\ket{1}=-\\ket{1}$\n",
    "\n",
    "***\n",
    "*Άσκήσεις* \n",
    "\n",
    "1)Δείξτε ότι η πύλη $X$ μπορεί να γραφτεί ως $\\ket{0}\\bra{1}+\\ket{1}\\bra{0}$\n",
    "\n",
    "2)Ποιο είναι το αποτέλεσμα της δράσης της πύλης Χ στο qubit $\\ket{-}$;\n",
    "\n",
    "3)Δείξτε ότι οι πύλες $H$ και $Χ$ ταυτίζονται με τους ανάστροφους συζυγείς τους $ H = H^\\dagger $ και $ X = X^\\dagger$\n"
   ]
  },
  {
   "cell_type": "markdown",
   "metadata": {},
   "source": [
    "---\n",
    "### Εκτελέστε ένα παράδειγμα κβαντικού προγράμματος (κβαντικό κύκλωμα))"
   ]
  },
  {
   "cell_type": "markdown",
   "metadata": {},
   "source": [
    "1) Δημιουργείστε το πρώτο σας κβαντικό αλγόριθμο (κβαντικό κύκλωμα) ενός qubit"
   ]
  },
  {
   "cell_type": "code",
   "execution_count": null,
   "metadata": {},
   "outputs": [],
   "source": [
    "# Εισαγωγή αντικειμένων από qiskit\n",
    "from qiskit import QuantumRegister, ClassicalRegister, QuantumCircuit, execute, Aer\n",
    "from random import randrange\n",
    "\n",
    "# Δημιουργία κβαντικού κυκλώματος και καταχωρητών\n",
    "qreg = QuantumRegister(1) # Κβαντικός καταχωρητής ενός qubit\n",
    "# (Οι κβαντικοί καταχωρητές αρχικοποιούνται πάντα με το qubit |0> !!!)\n",
    "\n",
    "creg = ClassicalRegister(1) # Κλασσικός καταχωρητής ενός μπιτ (περιέχει το αποτέλεσμα της μέτρησης) \n",
    "                            # Η διάστασή του πρέπει να είναι ίδια με αυτή του κβαντικού καταχωρητή\n",
    "circuit = QuantumCircuit(qreg,creg) # Κβαντικό κύκλωμα που αποτελείται από τους παραπάνω καταχωρητές\n",
    "\n",
    "# Εφάρμοσε την πύλη Hadamard στο πρώτο qubit \n",
    "# (Πρώτο qubit έχει το δείκτη 0 στον κβαντικό καταχωρητή !!!)\n",
    "circuit.h(qreg[0])\n",
    "\n",
    "# Εφάρμοσε μέτρηση \n",
    "circuit.measure(qreg,creg)\n",
    "\n",
    "print(\"Η εκτέλεση του κελιού ολοκληρώθηκε και το κύκλωμα δημιουργήθηκε :)\")"
   ]
  },
  {
   "cell_type": "markdown",
   "metadata": {},
   "source": [
    "2) Σχεδιάστε το κύκλωμα\n",
    "\n",
    "*Εκτελέστε το κελί ακόμα μία φορά εάν δεν εμφανιστεί η εικόνα.*"
   ]
  },
  {
   "cell_type": "code",
   "execution_count": null,
   "metadata": {},
   "outputs": [],
   "source": [
    "# Σχεδιάσε το κύκλωμα \n",
    "circuit.draw(output='mpl')\n",
    "\n",
    "# Η μορφή της εικόνας είναι \"matplotlib.Figure\" "
   ]
  },
  {
   "cell_type": "markdown",
   "metadata": {},
   "source": [
    "3) Εκτελέστε το κύκλωμα 1 φορά στον τοπικό προσομοιωτή και τυπώστε το αποτέλεσμα. "
   ]
  },
  {
   "cell_type": "code",
   "execution_count": null,
   "metadata": {},
   "outputs": [],
   "source": [
    "## Εκτέλεσε το κύκλωμα 1 φορά \n",
    "job = execute(circuit,Aer.get_backend('qasm_simulator'),shots=1)\n",
    "# πάρε το αποτέλεσμα\n",
    "counts = job.result().get_counts(circuit)\n",
    "# τύπωσε το αποτέλεσμα\n",
    "print(counts)"
   ]
  },
  {
   "cell_type": "markdown",
   "metadata": {},
   "source": [
    "Η τιμή που μετράτε βρίσκεται μέσα στα ' ' ενώ δίπλα εμφανίζεται το πόσες φορές εμφανίστηκε αυτή η τιμή.\n",
    "\n",
    "*Επανεκτελέστε αρκετές(>10) φορές το προηγούμενο πεδίο και παρατηρήστε ότι η τιμή αλλάζει τυχαία. Αυτό είναι αναμενόμενο εφόσον μετά την δράση της πύλης Hadamard το qubit βρίσκεται σε ισοβαρή υπέρθεση των |0> και |1>. \n",
    "\n",
    "Εάν κάνουμε μόνο μία μέτρηση τότε έχουμε ουσιαστικά μία κβαντική γεννήτρια τυχαίων bit."
   ]
  },
  {
   "cell_type": "markdown",
   "metadata": {},
   "source": [
    "3) Εκτελέστε το κύκλωμα 1024 φορές στον τοπικό προσομοιωτή και τυπώστε το αποτέλεσμα σε ιστόγραμμα. "
   ]
  },
  {
   "cell_type": "code",
   "execution_count": null,
   "metadata": {},
   "outputs": [],
   "source": [
    "## Εκτέλεσε το κύκλωμα 1024 φορές \n",
    "job = execute(circuit,Aer.get_backend('qasm_simulator'),shots=1024)\n",
    "# πάρε το αποτέλεσμα\n",
    "counts = job.result().get_counts(circuit)\n",
    "# τύπωσε το αποτέλεσμα\n",
    "print(counts)\n",
    "\n",
    "# μέτρησε τη συχνότητα των 0 και 1\n",
    "print()\n",
    "n_zeros = counts['0']\n",
    "n_ones = counts['1']\n",
    "print(\"Η κατάσταση 0 παρατηρείται με συχνότητα %\",100*n_zeros/(n_zeros+n_ones))\n",
    "print(\"Η κατάσταση 1 παρατηρείται με συχνότητα  %\",100*n_ones/(n_zeros+n_ones))\n",
    "\n",
    "# Παρουσίασε το αποτέλεσμα σε ιστόγραμμα\n",
    "print()\n",
    "from qiskit.visualization import plot_histogram\n",
    "plot_histogram(counts)\n"
   ]
  },
  {
   "cell_type": "markdown",
   "metadata": {},
   "source": [
    "Παρατηρήστε ότι τώρα έχουμε το επιθυμητό αποτέλεσμα της ισοβαρής υπέρθεσης.\n",
    "\n",
    "*Δοκιμάστε να αυξήσετε τον αριθμό των shots πχ 10000, 1000000 και να επανεκτελέσετε το παραπάνω κελί και παρατηρήστε πως οι πιθανότητες συγκλίνουν στο θεωρητικό 50%*"
   ]
  },
  {
   "cell_type": "markdown",
   "metadata": {},
   "source": [
    "----\n",
    "\n",
    "### Πολλά qubit \n",
    "\n",
    "Ορίζεται η πράξη  τανυστικό γινόμενο $Α\\otimesΒ$ μεταξύ πινάκων $Α$ και $Β$ \n",
    "    \n",
    "$ A \\otimes B = \\begin{pmatrix} a_{11}B & \\cdots & a_{1n}B \\\\ \\vdots & \\ddots & \\vdots \\\\ a_{n1}B & \\cdots & a_{nn}B \\end{pmatrix} $\n",
    "\n",
    "όπου ουσιαστικά το κάθε στοιχείο του πίνακα $Α$ αντικαθίσταται από τον πίνακα $Β$ πολλαπλασιαζόμενο με το στοιχείο αυτό. \n",
    "\n",
    "Προσοχή! $ A \\otimes B \\neq  B \\otimes A$\n",
    "\n",
    "Αυτή η πράξη μας πάει από τα λίγα Qubits στα πολλά. Πχ αν έχουμε δύο Qubits τα πιθανά ενδεχόμενα μέτρησης είναι τέσσερα $(00,01,10,11)$. Η κατάσταση των δύο qubit περιγράφεται πλέον από τέσσερα ορθοκανονικά διανύσματα βάσης τα οποία κατασκευάζονται υπολογίζοντας το τανυστικό γινόμενο των διανυσμάτων του ενός qubit ως εξής\n",
    "\n",
    "$\\ket{00}=\\ket{0}_{qubit_1} \\ket{0}_{qubit_2}=\\ket{0}\\otimes\\ket{0}=\\begin{pmatrix} 1\\ket{0} \\\\ 0\\ket{0} \\end{pmatrix}= \\begin{pmatrix} 1\\begin{pmatrix} 1 \\\\ 0 \\end{pmatrix}  \\\\ 0\\begin{pmatrix} 1 \\\\ 0 \\end{pmatrix} \\end{pmatrix} =\\begin{pmatrix} 1 \\\\ 0 \\\\ 0 \\\\ 0 \\end{pmatrix} $ \n",
    "\n",
    "η οποία εάν μετρηθεί θα δώσει αποτέλεσμα 00.\n",
    "\n",
    "Oμοίως τα υπόλοιπα διανύσματα βάσης του χώρου των δύο qubit δίνονται από\n",
    "\n",
    "$\\ket{01}=\\ket{0}_{qubit_1} \\ket{1}_{qubit_2}=\\ket{0}\\otimes\\ket{1}=\\begin{pmatrix} 0 \\\\ 1 \\\\ 0 \\\\ 0 \\end{pmatrix}$ η οποία εάν μετρηθεί θα δώσει αποτέλεσμα 01.\n",
    "\n",
    "$\\ket{10}=\\ket{1}_{qubit_1} \\ket{0}_{qubit_2}=\\ket{1}\\otimes\\ket{0}=\\begin{pmatrix} 0 \\\\ 0 \\\\ 1 \\\\ 0 \\end{pmatrix}$ η οποία εάν μετρηθεί θα δώσει αποτέλεσμα 10.\n",
    "\n",
    "$\\ket{11}=\\ket{1}_{qubit_1} \\ket{1}_{qubit_2}=\\ket{1}\\otimes\\ket{1}=\\begin{pmatrix} 0 \\\\ 0 \\\\ 0 \\\\ 1 \\end{pmatrix}$ η οποία εάν μετρηθεί θα δώσει αποτέλεσμα 11.\n",
    "\n",
    "***\n",
    "**Άσκηση** Επιβεβαιώστε τους πίνακες $\\ket{01},\\ket{10}$ και $\\ket{10}$ κάνοντας το τανυστικό γινόμενο.\n",
    "***\n",
    "Γενικά η κατάσταση δύο qubit περιγράφεται σαν ένας γραμμικός συνδιασμός των παραπάνω μοναδιακών διανυσμάτων. Αν\n",
    "\n",
    "$ \\ket{\\psi} = \\begin{pmatrix} a \\\\ b \\end{pmatrix} $ \n",
    "\n",
    "$ \\ket{\\phi} = \\begin{pmatrix} c \\\\ d \\end{pmatrix} $ \n",
    "\n",
    "τότε το από κοινού διάνυσμα υπολογίζεται ως:\n",
    "\n",
    "$ \\ket{\\psi \\phi} = \\ket{\\psi} \\otimes \\ket{\\phi} =\\begin{pmatrix} a\\ket{\\phi} \\\\ b\\ket{\\phi} \\end{pmatrix}=\\begin{pmatrix} a\\begin{pmatrix} c \\\\ d \\end{pmatrix}  \\\\ b\\begin{pmatrix} c \\\\ d \\end{pmatrix} \\end{pmatrix} =\\begin{pmatrix} ac \\\\ ad \\\\ bc \\\\ bd \\end{pmatrix}=ac\\begin{pmatrix} 1 \\\\ 0 \\\\ 0 \\\\ 0 \\end{pmatrix} + ad \\begin{pmatrix} 0 \\\\ 1 \\\\ 0 \\\\ 0 \\end{pmatrix} + bc\\begin{pmatrix} 0 \\\\ 0 \\\\ 1 \\\\ 0 \\end{pmatrix} + bd\\begin{pmatrix} 0 \\\\ 0 \\\\ 0 \\\\ 1 \\end{pmatrix}=$\n",
    "\n",
    "$=ac \\ket{00}+ ad \\ket{01}+ bc\\ket{10} + bd\\ket{11}$ \n",
    "\n",
    "***\n",
    "\n",
    "**Σημαντικό!** Η διάσταση του πίνακα αυξάνεται αντίστοιχα και για τις πύλες. Αν στο πρώτο Qubit εφαρμόζεται μια πύλη $A$ και στο δεύτερο μία πύλη $B$, τότε το όλο διάνυσμα πολλαπλασιάζεται με τον πίνακα $ B \\otimes A $ "
   ]
  },
  {
   "cell_type": "markdown",
   "metadata": {},
   "source": [
    "***\n",
    "\n",
    "**Παράδειγμα** \n",
    "\n",
    "Ας δούμε ένα απλό κύκλωμα με δύο qubit όπου απλά αντιστρέφουμε το δεύτερο qubit εφαρμόζοντας μια πύλη NOT οπότε πάμε από την κατάσταση $\\ket{00}$ (η οποία όπως είπαμε είναι πάντα η αρχική κατάσταση), στην κατάσταση $\\ket{01}$. Τρέχουμε για 1024 φορές"
   ]
  },
  {
   "cell_type": "code",
   "execution_count": null,
   "metadata": {},
   "outputs": [],
   "source": [
    "# Εισαγωγή αντικειμένων από qiskit\n",
    "from qiskit import QuantumRegister, ClassicalRegister, QuantumCircuit, execute, Aer\n",
    "\n",
    "# Δημιουργία κβαντικού κυκλώματος και καταχωρητών\n",
    "\n",
    "qreg2 = QuantumRegister(2) # Κβαντικός καταχωρητής δύο qubit\n",
    "\n",
    "# (Οι κβαντικοί καταχωρητές αρχικοποιούνται πάντα όλα τα qubit με την κατάσταση |0> !!!)\n",
    "\n",
    "creg2 = ClassicalRegister(2) # Κλασσικός καταχωρητής δύο μπιτ\n",
    "circuit2 = QuantumCircuit(qreg2,creg2) # Κβαντικό κύκλωμα \n",
    "\n",
    "# (Οι κβαντικοί καταχωρητές αρχικοποιούνται πάντα όλα τα qubit με την κατάσταση |0> !!!)\n",
    "# Άρα η αρχική κατάσταση δύο qubit είναι πάντα η |00> \n",
    "\n",
    "circuit2.x(qreg2[1]) # εφαρμόζετε μια πύλη Χ άρα παμε στην |01> \n",
    "#θα δείτε όμως ότι το αποτέλεσμα δίνει '10' διότι η qiskit εμφανίζει τα qubit ανάποδα\n",
    "# Εφάρμοσε μέτρηση και στα δύο qubit \n",
    "circuit2.measure(qreg2,creg2)\n",
    "\n",
    "## Εκτέλεσε το κύκλωμα 1024 φορές \n",
    "job2 = execute(circuit2,Aer.get_backend('qasm_simulator'),shots=1024)\n",
    "# πάρε το αποτέλεσμα\n",
    "counts2 = job2.result().get_counts(circuit2)\n",
    "print(counts2)\n",
    "\n",
    "# Παρουσίασε το αποτέλεσμα σε ιστόγραμμα\n",
    "\n",
    "from qiskit.visualization import plot_histogram\n",
    "plot_histogram(counts2)\n",
    "\n",
    "#Ζωγράφισε το κύκλωμα\n",
    "circut2.draw(output='mpl')"
   ]
  },
  {
   "cell_type": "markdown",
   "metadata": {},
   "source": [
    "**Προσοχή** Παρατηρήστε το αποτέλεσμα πάνω από σχέδιο του κυκλώματος.Η qiskit μας δίνει '10' ως αποτέλεσμα ενώ η αναμενόμενη κατάσταση είναι η $\\ket{01}$ (εφόσον αλλάξαμε το δευτερο qubit). Το αποτέλεσμα είναι σωστό παρόλου που φαίνεται ανάποδο. Το μπέρδεμα αυτό προκύπτει διότι η qiskit εμφανίζει στα αποτελέσματα τα qubit ανάστροφα δηλαδή πρώτο από αριστερά είναι το δεύτερο qubit σε αντίθεση με την συνήθης βιβλιογραφία. Δηλαδή το '10' σαν αποτέλεσμα μέτρησης δύο qubit ουσιαστικά αντιστοιχεί στην κατάσταση $\\ket{01}$. !!!!"
   ]
  },
  {
   "cell_type": "markdown",
   "metadata": {},
   "source": [
    "***\n",
    "**Πύλη CNOT**\n",
    "\n",
    "Η πιο γνωστή πύλη 2 Qubit είναι η ελεγχόμενη πύλη X (ονομάζεται και C-NOT). Στην ουσία εφαρμόζεται μια πύλη X στο δεύτερο Qubit, <strong>μόνο</strong> αν το πρώτο είναι 1. Στο πρώτο qubit δεν εφαρμόζεται καμία πύλη(σε αυτή την περίπτωση λέμε ότι εφαρμόζεται η ταυτοτική πύλη(πίνακας) Ι. Ο πίνακας που μας δίνει την πύλη 2 qubit CNOT δίνεται από\n",
    "\n",
    "$ CNOT = \\begin{pmatrix} 1 & 0 & 0 & 0 \\\\ 0 & 1 & 0 & 0 \\\\ 0 & 0 & 0 & 1 \\\\ 0 & 0 & 1 & 0 \\end{pmatrix} $\n",
    "\n",
    "Η δράση της CNOT στα διανύσματα βάσης των δύο qubit φαίνεται παρακάτω:\n",
    "\n",
    "$CNOT\\ket{00}=\\ket{00}$\n",
    "\n",
    "$CNOT\\ket{01}=\\ket{01}$\n",
    "\n",
    "$CNOT\\ket{10}=\\ket{11}$\n",
    "\n",
    "$CNOT\\ket{11}=\\ket{10}$"
   ]
  },
  {
   "cell_type": "markdown",
   "metadata": {},
   "source": [
    "***\n",
    "**Άσκηση** Επιβεβαιώστε τις παραπάνω σχέσεις με εκτέλεση κβαντικού κυκλώματος. \n"
   ]
  },
  {
   "cell_type": "code",
   "execution_count": null,
   "metadata": {},
   "outputs": [],
   "source": [
    "# Εισαγωγή αντικειμένων από qiskit\n",
    "from qiskit import QuantumRegister, ClassicalRegister, QuantumCircuit, execute, Aer\n",
    "\n",
    "\n",
    "# Δημιουργία κβαντικού κυκλώματος και καταχωρητών\n",
    "\n",
    "qreg2 = QuantumRegister(2) # Κβαντικός καταχωρητής δύο qubit\n",
    "\n",
    "# (Οι κβαντικοί καταχωρητές αρχικοποιούνται πάντα όλα τα qubit με την κατάσταση |0> !!!)\n",
    "\n",
    "creg2 = ClassicalRegister(2) # Κλασσικός καταχωρητής δύο μπιτ\n",
    "circuit2 = QuantumCircuit(qreg2,creg2) # Κβαντικό κύκλωμα \n",
    "\n",
    "# (Οι κβαντικοί καταχωρητές αρχικοποιούνται πάντα όλα τα qubit με την κατάσταση |0> !!!)\n",
    "# Άρα η αρχική κατάσταση δύο qubit είναι πάντα η |00> \n",
    "# Επιλέξτε παρακάτω την αρχική σας κατάσταση βγάζοντας το κατάλληλο σχόλιο\n",
    "\n",
    "#circuit2.x(qreg2[0]) # εφαρμόζετε μια πύλη Χ στο πρώτο qubit άρα |10>\n",
    "\n",
    "circuit2.x(qreg2[1]) # εφαρμόζετε μια πύλη Χ στο δεύτερο qubit άρα |01> \n",
    "\n",
    "#circuit2.x(qreg2) # εφαρμόζετε μια πύλη Χ και στα δύο qubit άρα |11>\n",
    "\n",
    "# Εφάρμοσε την πύλη CNOT me control το πρώτο qubit \n",
    "# (Πρώτο qubit έχει το δείκτη 0 στον κβαντικό καταχωρητή !!!)\n",
    "\n",
    "circuit2.cnot(qreg2[0],qreg2[1]) #εδώ το η πρώτη μεταβλητή είναι το controlo qubit ενώ η δεύτερη το target\n",
    "\n",
    "# Εφάρμοσε μέτρηση και στα δύο qubit \n",
    "circuit2.measure(qreg2,creg2)\n",
    "\n",
    "## Εκτέλεσε το κύκλωμα 1024 φορές \n",
    "job2 = execute(circuit2,Aer.get_backend('qasm_simulator'),shots=1024)\n",
    "# πάρε το αποτέλεσμα\n",
    "counts2 = job2.result().get_counts(circuit2)\n",
    "print(counts2)\n",
    "\n",
    "# Παρουσίασε το αποτέλεσμα σε ιστόγραμμα\n",
    "\n",
    "from qiskit.visualization import plot_histogram\n",
    "plot_histogram(counts2)\n",
    "\n",
    "#Ζωγράφισε το κύκλωμα\n",
    "circut2.draw(output='mpl')"
   ]
  },
  {
   "cell_type": "markdown",
   "metadata": {},
   "source": [
    "'Αλλαξε τον κώδικα έτσι ώστε να ελέγξεις όλες τις πιθανές δράσεις του CNOT\n",
    "\n",
    "*Σχεδιάσε το κύκλωμα και τσέκαρε το αποτέλεσμα τρέχοντας την παρακάτω εντολή κάθε φορά που κάνεις αλλαγή στον κώδικα*  \n",
    "\n",
    "**Προσοχή** *στην ανάποδη σειρά των qubit στην παρουσίαση των αποτελεσμάτων από την qiskit σε σχέση με την αναφερόμενη εδώ και στην βιβλιογραφία. Δείτε και εδώ περισσότερες λεπτομέριες https://qiskit.org/textbook/ch-gates/multiple-qubits-entangled-states.html#cnot)*"
   ]
  },
  {
   "cell_type": "markdown",
   "metadata": {},
   "source": [
    "***\n",
    "\n",
    "Επιπλέον προβλήματα για αυτοαξιολόγηση https://learn.qiskit.org/problem-sets/single_systems_problem_set/problem-1 σε όλα τα παραπάνω θέματα."
   ]
  },
  {
   "cell_type": "markdown",
   "metadata": {},
   "source": [
    "***\n",
    "\n",
    "**Κβαντική Σύμπλεξη (Quantum Entanglement)**\n",
    "\n",
    "Γιατί όμως ένας \"από κοινού\" χώρος και όχι πολλοί μικροί χώροι του ενός Qubit;\n",
    "\n",
    "Δείτε για παράδειγμα την κατάσταση: \n",
    "    \n",
    "$ \\ket{\\Phi^+} = \\frac{1}{\\sqrt{2}} \\begin{pmatrix} 1 \\\\ 0 \\\\ 0 \\\\ 1 \\end{pmatrix}=\\frac{1}{\\sqrt{2}}(\\ket{00}+\\ket{11}) $\n",
    "\n",
    "η οποία είναι μία από τις λεγόμενες καταστάσεις Bell.\n",
    "\n",
    "Η κατάσταση αυτή δεν μπορεί να αναλυθεί ως τανυστικό γινόμενο δύο Qubit!!! \n",
    "\n",
    "(Σε αντίθεση για παράδειγμα με την κατάσταση \n",
    "\n",
    "$\\ket{w}=\\frac{1}{\\sqrt{2}} \\begin{pmatrix} 1 \\\\ 0 \\\\ 1 \\\\ 0 \\end{pmatrix}=\\frac{1}{\\sqrt{2}}(\\ket{00}+\\ket{10})=\\frac{1}{\\sqrt{2}}(\\ket{0}\\otimes\\ket{0}+\\ket{1}\\otimes\\ket{0}=\\frac{1}{\\sqrt{2}}(\\ket{0}+\\ket{1})\\otimes\\ket{0}=\\ket{+}\\otimes\\ket{0}$\n",
    "\n",
    "Αυτό σημαίνει οτι τα Qubits εδώ είναι <strong>ενωμένα</strong> με τρόπο που δεν μας επιτρέπει να τα μετρήσουμε χώρια. Εάν μετρήσουμε το πρώτο qubit αμέσως γνωρίζουμε και την κατάσταση του δεύτερου qubit. Αυτή η ιδιότητα των πολλών Qubits ονομάζεται <strong>σύμπλεξη</strong> (entanglement). Άλλοι όροι που συναντιώνται στην Ελληνική για το entanglement είναι διεπλοκή, συμπλοκή και εναγκαλισμός. Πειράματα έχουνε δείξει ότι η σύμπλεξη ανάμεσα σε δύο qubit, yφίσταται ακόμα και εάν διαχωρίσουμε τα qubit σε μεγάλες αποστάσεις κάτι που δεν άρεσε καθόλου στον Einstein.\n"
   ]
  },
  {
   "cell_type": "markdown",
   "metadata": {},
   "source": [
    "**Κύκλωμα σύμπλεξης - απόπλεξης**\n",
    "\n",
    "Η παραπάνω κατάσταση $ \\ket{\\Phi^+}$  κατασκευάζεται εύκολα με δύο πύλες. Μια πύλη Hadamard για υπέρθεση στο ένα Qubit και μετά μια CNOT για σύμπλεξη.\n",
    "\n",
    "<img src=\"Bell_state.png\" width=\"30%\">\n",
    "\n",
    "Οι δύο αυτές πύλες ταυτίζονται με τους ανάστροφους συζυγείς τους $ H = H^\\dagger $, $ X = X^\\dagger $, έτσι μπορούμε να κάνουμε την απόπλεξη με το αντίστροφο κύκλωμα:\n",
    "\n",
    "<img src=\"Reverse.png\" width=\"30%\">\n",
    "\n",
    "Υπάρχουν τέσσερις κβαντικές καταστάσεις μέγιστης σύμπλεξης οι οποίες λέγονται καταστάσεις Bell οι οποίες φαίνονται στην παρακάτω εικονα καθώς και οι κβαντικες πύλες που πρέπει να εφαρμόσουμε για τις υλοποιήσουμε.\n",
    "\n",
    "<img src=\"allbellstates.JPG\" width=\"60%\">\n",
    "\n",
    "Εάν εφαρμόσουμε κύκλωμα απόπλεξης σε κάθε μία από τις παραπάνω καταστάσεις και εφαρμόσουμε μέτρηση θα πάρουμε για κάθε μία από τις καταστάσεις διαφορετικά αποτελέσματα όπως φαίνεται στην παρακάτω εικόνα.\n",
    "\n",
    "<img src=\"allbellstatesdentangle.png\" width=\"60%\">\n",
    "\n",
    "Έτσι μετά την απόπλεξη και τη μέτρηση μπορούμε να διακρίνουμε ποια από τις τέσσερις καταστάσεις είχαμε υλοποιήσει και αυτό μας δίνει πλεονέκτημα στην μεταφορά πληροφορίας όπως θα δούμε παρακάτω.\n",
    "\n",
    "### Υπέρπυκνη κωδικοποίηση (Superdense coding)\n",
    "\n",
    "Ένας απλός αλγόριθμος που δείχνει την υπεροχή της σύμπλεξης είναι ο superdense coding και δίνει τη δυνατότητα αποστολής δύο κλασικών bits πληροφορίας με την αποστολή μόνο ενός qubit. \n",
    "\n",
    "<img src=\"superdense-coding.jpg\" width=\"80%\">\n",
    "\n",
    "Το πρωτόκολλο που πρέπει να ακολουθηθεί είναι το παρακάτω.\n",
    "\n",
    "1) Αρχικά δημιουργούμε την παραπάνω συμπλεγμένη κατάσταση δύο qubits $ \\ket{\\Phi^+}$\n",
    "\n",
    "2) Τα συμπλεγμένα πλέον qubits διαχωρίζονται και παραλαμβάνονται από τον αποστολέα(Alice) και τον αποδέκτη(Bob).\n",
    "\n",
    "3) Κωδικοποίηση των κλασσσικών μπιτ από την Alice στο qubit της.\n",
    "Η Alice έχει δύο μπιτ κλασσικής πληροφορίας που θέλει να στείλει $ a,b \\in \\{0,1\\} $. \n",
    "<br> Υπάρχουν τέσσερις πιθανές τιμές για το ζευγάρι $ (a,b) $:  $ (0,0), (0,1), (1,0),\\mbox{ or } (1,1) $.\n",
    "<br> Εάν το $a$ είναι 1, τότε  η Alice εφαρμόζει την πύλη Z στο qubit της\n",
    "<br> Εάν το $b$ είναι 1, τότε η Alice εφαρμόζει την πύλη Χ στο qubit της. \n",
    "<br> Δηλαδή: \n",
    "\n",
    "για να στείλει (0,0) δεν εφαρμόζει καμία πύλη\n",
    "\n",
    "για να στείλει (1,0) εφαρμόζει Ζ\n",
    "\n",
    "για να στείλει (0,1) εφαρμόζει Χ\n",
    "\n",
    "για να στείλει (1,1) εφαρμόζει και Ζ και Χ\n",
    "\n",
    "4) Η Alice στέλνει το qubit της αφού το έχει κωδικοποιήσει στον Bob.\n",
    "\n",
    "5) Ο Bob κάνει απόπλεξη και μετράει τα 2 qubits. Το αποτέλεσμα της μέτρησης είναι τα κλασσικά μπιτ που ήθελε να στείλει η Alice."
   ]
  },
  {
   "cell_type": "markdown",
   "metadata": {},
   "source": [
    "Δείτε παρακάτω ένα παράδειγμα κώδικα όπου η Alice έχει να στείλει το ζευγάρι (1,1) άρα εφαρμόζει και $Ζ$ και $Χ$ πύλες"
   ]
  },
  {
   "cell_type": "code",
   "execution_count": null,
   "metadata": {},
   "outputs": [],
   "source": [
    "# Vivliothikes\n",
    "from qiskit import QuantumCircuit\n",
    "from qiskit import IBMQ, Aer, transpile, assemble\n",
    "\n",
    "########################################\n",
    "#      TA TRIA MERH TOU KUKLWMATOS     #\n",
    "########################################\n",
    "\n",
    "\n",
    "# Sumplexh\n",
    "def create_bell_pair():\n",
    "    qc = QuantumCircuit(2)\n",
    "    qc.h(0)\n",
    "    qc.cx(1, 0)\n",
    "    return qc\n",
    "\n",
    "\n",
    "\n",
    "# Kwdikopoihsh\n",
    "def encode_message(qc, qubit, msg):\n",
    "    \"\"\"Encodes a two-bit message on qc using the superdense coding protocol\n",
    "    Args:\n",
    "        qc (QuantumCircuit): Circuit to encode message on\n",
    "        qubit (int): Which qubit to add the gate to\n",
    "        msg (str): Two-bit message to send\n",
    "    \"\"\"\n",
    "    if len(msg) != 2 or not set(msg).issubset({\"0\",\"1\"}):\n",
    "        raise ValueError(f\"message '{msg}' is invalid\")\n",
    "    if msg[1] == \"1\":\n",
    "        qc.x(qubit)\n",
    "    if msg[0] == \"1\":\n",
    "        qc.z(qubit)\n",
    "    return qc\n",
    "\n",
    "\n",
    "\n",
    "# Apoplexh\n",
    "def decode_message(qc):\n",
    "    qc.cx(1, 0)\n",
    "    qc.h(1)\n",
    "    return qc\n",
    "\n",
    "\n",
    "\n",
    "########################################\n",
    "#           TO PLHRES KUKLWMA          #\n",
    "########################################\n",
    "\n",
    "\n",
    "# Sumplexh\n",
    "qc = create_bell_pair()\n",
    "qc.barrier()\n",
    "\n",
    "# Kwdikopoihsh twn 2 bits pou stelnei o apostoleas\n",
    "qc = encode_message(qc, 0, '01')\n",
    "qc.barrier()\n",
    "\n",
    "# Apoplexh\n",
    "qc = decode_message(qc)\n",
    "\n",
    "# Metrhsh\n",
    "qc.measure_all()\n",
    "\n",
    "# Zwgrafise\n",
    "qc.draw('mpl')\n",
    "# an den douleuei, bgale to 'mpl'"
   ]
  },
  {
   "cell_type": "code",
   "execution_count": null,
   "metadata": {},
   "outputs": [],
   "source": [
    "## Εκτέλεσε το κύκλωμα 1 φορά \n",
    "qobj = execute(qc,Aer.get_backend('qasm_simulator'),shots=1000)\n",
    "# πάρε το αποτέλεσμα\n",
    "counts = qobj.result().get_counts(qc)\n",
    "print(counts)\n"
   ]
  },
  {
   "cell_type": "markdown",
   "metadata": {},
   "source": [
    "*Παρατηρήστε ότι όσες φορές και να τρέξετε το πρόγραμμα στον προσωμοιωτή, θα δίνει με πάρα πολύ μεγάλη πιθανότητα το σωστό αποτέλεσμα."
   ]
  },
  {
   "cell_type": "markdown",
   "metadata": {},
   "source": [
    "---\n",
    "**Άσκηση**\n",
    "\n",
    "Φτιάξετε το δικό σας πρόγραμμα στο παρακάτω πεδίο, αντιγράφοντας το δικό μας παράδειγμα και  προσθέτωντας ή αφαιρώντας τις κατάλληλες γραμμές κώδικα έτσι ώστε η Alice να στείλει τα (1,0)"
   ]
  },
  {
   "cell_type": "code",
   "execution_count": null,
   "metadata": {},
   "outputs": [],
   "source": [
    "# Vivliothikes ....."
   ]
  },
  {
   "cell_type": "markdown",
   "metadata": {},
   "source": [
    "***\n",
    "\n",
    "***\n",
    "**Επιπλέον πληροφορίες**\n",
    "θα βρειτε στο σχετικό με την υπέρπυκνη κωδικοποίηση βίντεο στη διεύθυνση https://youtu.be/UrAZHBwIAFQ\n",
    "\n",
    "\n"
   ]
  },
  {
   "cell_type": "markdown",
   "metadata": {},
   "source": [
    "***\n",
    "# Παράρτημα #\n",
    "### Εκτελέστε ένα κβαντικό κύκλωμα σε πραγματικό κβαντικό υπολογιστή\n",
    "\n",
    "Για να μπορέσετε να εκτελέσετε κβαντικό κύκλωμα σε πραγματικό κβαντικό υπολογιστή πρώτα θα πρέπει να κάνετε εγγραφή και είσοδο στη σελίδα https://quantum-computing.ibm.com/login\n",
    "\n",
    "Αφού κάνετε Log in θα εμφανιστεί ένα πεδίο \"API token\" το οποίο θα πρέπει να αντιγράψετε μιας και είναι ο μοναδικός σας κωδικός αναγνώρισης.\n",
    "\n",
    "Κατόπιν εκτελέστε τις παρακάτω εντολές.\n",
    "Καταρχάς ελέγξε εάν είναι εγκατεστημένη η υπηρεσία qiskit-ibmq-provider\n"
   ]
  },
  {
   "cell_type": "code",
   "execution_count": null,
   "metadata": {},
   "outputs": [],
   "source": [
    "pip show qiskit-ibmq-provider"
   ]
  },
  {
   "cell_type": "markdown",
   "metadata": {},
   "source": [
    "Εάν δεν είναι τότε μπορείτε να την εγκαταστήσετε με την εντολή pip install qiskit-ibmq-provider και να επανεκινήσετε τον κέρνελ.\n",
    "\n",
    "Μετά εκτελείτε το παρακάτω κομμάτι κώδικα αφού έχετε φτιάξει πρώτα ένα κβαντικό κύκλωμα circuit\n"
   ]
  },
  {
   "cell_type": "code",
   "execution_count": null,
   "metadata": {},
   "outputs": [],
   "source": [
    "from qiskit import IBMQ\n",
    "IBMQ.save_account('κάντε εδώ paste το token σας', overwrite=True)\n",
    "IBMQ.load_account()\n",
    "\n",
    "provider = IBMQ.get_provider(hub = 'ibm-q')\n",
    "\n",
    "device = provider.get_backend('ibmq_lima') ##εδώ έχω επιλέξει έναν από τους πολλούς κβαντικούς υπολογιστές τους οποίους μπορείτε να δείτε στη σελίδα\n",
    "\n",
    "job = execute(circuit,backend = device,shots = 1024)\n",
    "\n",
    "print(job.job_id())"
   ]
  },
  {
   "cell_type": "markdown",
   "metadata": {},
   "source": [
    "εάν όλα πάνε καλά θα σας βγάλει έαν id που θα μπει στην ουρά για εκτέλεση στον κβαντικό υπολογιστή που επιλέξατε. Για να παρακολουθείτε την πορεία του job σας και να παρουσιάσετε τα αποτελέσματα σε ιστόγραμμα αφού εκτελεστεί χρησιμοποιήστε τον κώδικα"
   ]
  },
  {
   "cell_type": "code",
   "execution_count": null,
   "metadata": {},
   "outputs": [],
   "source": [
    "from qiskit.tools.monitor import job_monitor\n",
    "\n",
    "job_monitor(job)\n",
    "\n",
    "device_result = job.result()\n",
    "\n",
    "counts = job.result().get_counts(circuit)\n",
    "print(counts)\n",
    "\n",
    "from qiskit.visualization import plot_histogram\n",
    "plot_histogram(device_result.get_counts(circuit))"
   ]
  },
  {
   "cell_type": "markdown",
   "metadata": {},
   "source": [
    "Για το κύκλωμα της παρακάτω εικόνας \n",
    "<img src=\"realQC1.jpg\" width=\"40%\">\n",
    "ενώ στον simulator παίρνουμε αποτέλεσμα για 1024 runs\n",
    "<img src=\"realQC2.jpg\" width=\"60%\">\n",
    "στον κβαντικό υπολογιστή παίρνουμε το ιστόγραμμα \n",
    "<img src=\"realQC3.jpg\" width=\"60%\">\n",
    "Παρατηρήστε πως ενώ στον προσομοιωτή πλησιάζει το αποτέλεσμα το θεωρητικό 50% ανάμεσα στις καταστάσεις 01 και 10, στον πραγματικό κβαντικό υπολογιστή εμφανίζονται ως αποτελέσματα και οι απαγορευμένες καταστάσεις 00 και 11 με κάποια (μικρή μεν) πιθανότητα λόγω λαθών.\n",
    "\n"
   ]
  },
  {
   "cell_type": "markdown",
   "metadata": {},
   "source": [
    "# Περισσότερα #\n",
    "\n",
    "**Το πλήρες βιβλίο της qiskit** https://qiskit.org/textbook/preface.html\n",
    "\n",
    "**Quantum optical bench simulation** quantum flytrap https://lab.quantumflytrap.com/\n",
    "\n",
    "**Quantum Machine Learning**\n",
    "Μια άλλη γλώσσα προγραμματισμού κβαντικών υπολογιστών με είναι η pennylane της xanadu. Περισσότερες πληροφορίες και tutorials στη διεύθυνση https://pennylane.ai/qml/demos_qml.html\n",
    "\n",
    "**QGreece** Εγγραφείτε στον discord server μας όχι μόνο για να ενημερώνεστε για τις κβαντικές τεχνολογίες και τους κβαντικούς υπολογιστές αλλά και για να συνεισφέρετε στην ανάπτυξή τους. https://discord.gg/VVjunJxW"
   ]
  }
 ],
 "metadata": {
  "kernelspec": {
   "display_name": "Python 3",
   "language": "python",
   "name": "python3"
  },
  "language_info": {
   "codemirror_mode": {
    "name": "ipython",
    "version": 3
   },
   "file_extension": ".py",
   "mimetype": "text/x-python",
   "name": "python",
   "nbconvert_exporter": "python",
   "pygments_lexer": "ipython3",
   "version": "3.8.5"
  }
 },
 "nbformat": 4,
 "nbformat_minor": 5
}
